{
 "cells": [
  {
   "cell_type": "markdown",
   "metadata": {},
   "source": [
    "<figure>\n",
    "  <IMG SRC=\"LogoENSEGID.png\" WIDTH=125 ALIGN=\"right\">\n",
    "</figure>\n",
    "\n",
    "# PERFORMANCE D'UN OUVRAGE D'EXPLOITATION - ESSAIS DE PUITS\n",
    "\n",
    "## Généralités\n"
   ]
  },
  {
   "cell_type": "markdown",
   "metadata": {},
   "source": [
    "Un pompage d'essai est l'étude de la réponse d'un système aquifère à une sollicitation contrôlée correspondant à un soutirement ou une injection d'eau. On distingue les essais de puits (détermination de l'efficacité d'un puits de pompage et de ses paramètres) et les essais de nappe (détermination des paramètres de l'aquifère).\n",
    "Objectifs:\n",
    "1. déterminer la capacité du puits de pompage et son efficacité;\n",
    "2. déterminer les propriétés physiques de l'aquifère;\n",
    "3. examiner la composition chimique de de l'eau de gisement.\n",
    "\n",
    "La réalisation de ce type de test nécessite a minima d'enregistrer sur un ou plusieurs ouvrages:\n",
    "- le rabattement au cours du temps (la différence entre la hauteur piézométrique au repos dans l'ouvrage et la durant le pompage) au puits de pompage et éventuellement aux piézomètres d'observation;\n",
    "- le débit d'exploitation au puits de pompage.\n",
    "\n",
    "Dans le cas d'un essai de puits, seul l'ouvrage d'exploitation est étudié car on s'interesse à établir de ses caractéristiques en vue de son exploitation éventuelle et de sa future gestion."
   ]
  },
  {
   "cell_type": "code",
   "execution_count": 1,
   "metadata": {},
   "outputs": [
    {
     "data": {
      "image/jpeg": "[encoded data removed]",
      "text/html": [
       "\n",
       "        <iframe\n",
       "            width=\"400\"\n",
       "            height=\"300\"\n",
       "            src=\"https://www.youtube.com/embed/0rRd_DqilwI\"\n",
       "            frameborder=\"0\"\n",
       "            allowfullscreen\n",
       "        ></iframe>\n",
       "        "
      ],
      "text/plain": [
       "<IPython.lib.display.YouTubeVideo at 0x7f969181ad60>"
      ]
     },
     "execution_count": 1,
     "metadata": {},
     "output_type": "execute_result"
    }
   ],
   "source": [
    "from IPython.lib.display import YouTubeVideo\n",
    "YouTubeVideo('0rRd_DqilwI')"
   ]
  },
  {
   "cell_type": "markdown",
   "metadata": {},
   "source": [
    "# ESSAI DE PUITS - INTERPRETATION"
   ]
  },
  {
   "cell_type": "markdown",
   "metadata": {},
   "source": [
    "L'objectif de l'essai de puits est de définir les caractéristiques de l'ouvrage afin d'être capable d'estimer son comportement hydraulique en vue d'une prochaine exploitation. En pratique, il s'agit d'être capable de déterminer le rabattement au sein de l'ouvrage pour un débit d'exploitation quelconque, et vice et versa.\n",
    "\n",
    "Au cours d'un pompage, le rabattement mesuré au puits est constitué de deux composantes principales:\n",
    "- Composante 1: fonction linéaire du débit d'exploitation. Elle est liée à la circulation du fluide au sein de l'aquifère et associée à ses caractéristiques hydrodynamiques;\n",
    "$$\n",
    "s_a = BQ\n",
    "$$\n",
    "- Composante 2: fonction puissance $n^{ieme}$ du débit d'exploitation}. Elle est liée à la circulation du fluide à l'interface puits/aquifère et à l'intérieur du puits\n",
    "$$\n",
    "s_w = C Q^n\n",
    "$$\n",
    "\n",
    "Le rabattement total $s$ à l'ouvrage d'exploitation peut donc s'écrire:\n",
    "$$\n",
    "s = s_w + s_a = BQ + CQ^n\n",
    "$$\n",
    "\n",
    "Cette équation constitue l'équation caractéristique du puits et constitue sa \"carte d'identité'.\n"
   ]
  },
  {
   "cell_type": "markdown",
   "metadata": {},
   "source": [
    "### Méthode d'interprétation\n",
    "\n",
    "\n",
    "A partir des données de débit $Q_n$ pour chaque palier $n$ de valeurs croissantes et des rabattements $n$ stabilisés en fin de palier $s_n$, on calcule le rabattement spécifique $s_Q(n)$ \n",
    "$$\n",
    "s_{Qn} = \\frac{s_n}{Q_n}\n",
    "$$\n",
    "\n",
    "On construit la courbe expérimentale $$ s_Q = f(Q) $$.\n",
    "<figure>\n",
    "  <IMG SRC=\"paliers2.png\" WIDTH=380 ALIGN=\"center\">\n",
    "</figure>\n",
    "\n",
    "L'équation de l'ajustement optimal des points expérimentaux peut prendre trois formes:\n",
    "- Pertes de charges générées par la puits négligeable, pertes de charges associées à l'aquifère fonction linéaire du débit (loi de Darcy): $$ s_Q = B \\Longrightarrow s = BQ$$\n",
    "- Pertes de charges générées par la puits fonction quadratique du débit (écoulement turbulent faible) plus pertes de charges associées à l'aquifère fonction linéaire du débit (loi de Darcy): $$ s_Q = B + CQ \\Longrightarrow s = BQ + CQ^2 $$\n",
    "- Pertes de charges générées par la puits fonction nième du débit (écoulement turbulent important) plus pertes de charges associées à l'aquifère fonction linéaire du débit (loi de Darcy): $$ s_Q = B + CQ^{m-1} \\Longrightarrow s = BQ + CQ^m $$\n",
    "<figure>\n",
    "  <IMG SRC=\"paliers3.png\" WIDTH=280 ALIGN=\"center\">\n",
    "</figure>   "
   ]
  },
  {
   "cell_type": "markdown",
   "metadata": {},
   "source": [
    "### APPLICATION: contexte et mise en oeuvre du test\n",
    "\n",
    "Un puits en nappe captive présente la coupe géologique suivante:\n",
    "- de 0 à 10 m/sol: sables plus ou moins argileux;\n",
    "- de 10 à 18 m/sol: marnes compactes à rares passées calcaires;\n",
    "- de 18 à 35 m/sol: calcaire très fissuré.\n",
    "\n",
    "Les caractéristiques techniques de l'ouvrage sont les suivantes:\n",
    "- profondeur finale: 34 m/sol;\n",
    "- profondeur pompe: 14 m/sol;\n",
    "- top de la crépine: 20 m/sol;\n",
    "- bottom de la crépine: 32 m/sol;\n",
    "- profondeur du niveau statique: 4.70 m/sol. \n",
    "\n",
    "Un essai de puits a été réalisé sur l'ouvrage avec 4 paliers enchaînes de débits croissants:\n",
    "- palier 1: durée 60 minutes, débit $Q_1 = 223.2$ m3/jour\n",
    "- palier 2: durée 60 minutes, débit $Q_2 = 367.2$ m3/jour\n",
    "- palier 3: durée 60 minutes, débit $Q_3 = 590.4$ m3/jour\n",
    "- palier 4: durée 60 minutes, débit $Q_4 = 799.2$ m3/jour\n",
    "\n",
    "Les données de rabattement enregistrées au puits sont fournies dans le fichier *data_well_s.csv*. Le fichier est structuré en 2 colonnes: temps (minutes) et profondeur de l'eau (m/sol)\n"
   ]
  },
  {
   "cell_type": "markdown",
   "metadata": {},
   "source": [
    "### Question 1 - Courbe caractéristique de l'ouvrage\n",
    "\n",
    "#### 1.a Mettre en forme les données de terrain en proposant un graphique synthétique de l'essai de puits $s = f(Q)$\n"
   ]
  },
  {
   "cell_type": "markdown",
   "metadata": {},
   "source": [
    "La première étape est de charger les librairies classiques de Python, puis le fichier contenant les données de l'essai de puits. On peut vérifier la structure du fichier dans un éditeur de texte ou un tableur.\n",
    "Pour rappel, le fichier est structuré en 2 colonnes: temps (minutes) et profondeur de l'eau (m/sol)\n",
    "\n",
    "Il faut créer le graphique $s = f(Q)$. \n",
    "\n",
    "<figure>\n",
    "  <IMG SRC=\"paliers.png\" WIDTH=275 ALIGN=\"center\">\n",
    "</figure>\n",
    "    \n",
    "Pour cela on calcule le rabattement:\n",
    "$$\n",
    "s = prof(t) - niv \\ stat\n",
    "$$"
   ]
  },
  {
   "cell_type": "code",
   "execution_count": 20,
   "metadata": {},
   "outputs": [
    {
     "data": {
      "image/png": "[encoded data removed]",
      "text/plain": [
       "<Figure size 432x288 with 1 Axes>"
      ]
     },
     "metadata": {
      "needs_background": "light"
     },
     "output_type": "display_data"
    }
   ],
   "source": [
    "import numpy as np\n",
    "import scipy.special as sp\n",
    "import matplotlib.pyplot as plt\n",
    "import pandas as pd\n",
    "\n",
    "#lecture fichier local\n",
    "#data = np.genfromtxt('data_well_s.csv',delimiter=',')\n",
    "\n",
    "#lecture fichier Github pour Colabotary on line\n",
    "data = np.genfromtxt('https://raw.githubusercontent.com/larroque852/NB_ENS2_paliers/main/data_well_s.csv',delimiter=',')\n",
    "\n",
    "\n",
    "niv_stat = 4.70# niveau statique m/rep\n",
    "t = data[:,0]\n",
    "s = data[:,1]-niv_stat\n",
    "#print(t)\n",
    "#print(s)\n",
    "\n",
    "plt.title('Rabattements mesurés au puits')\n",
    "plt.xlabel('Temps (min)')\n",
    "plt.ylabel('Rabattement $s$ (m)')\n",
    "plt.grid()\n",
    "plt.plot(t,s,'.')\n",
    "plt.show()"
   ]
  },
  {
   "cell_type": "markdown",
   "metadata": {},
   "source": [
    "Les commandes suivantes permettent d'explorer plus en détail les données expérimentales:\n",
    "- nombre de mesures\n",
    "- minimum\n",
    "- maximum\n",
    "- et c'est l'occasion de tester quelques fonctionnalités de PYTHON..."
   ]
  },
  {
   "cell_type": "code",
   "execution_count": 9,
   "metadata": {},
   "outputs": [
    {
     "name": "stdout",
     "output_type": "stream",
     "text": [
      "Au total,  104 mesures ont été réalisées\n",
      "Rabattement maximum : smax =  11.059999999999999 mètres pour t =  240.0 minutes\n"
     ]
    }
   ],
   "source": [
    "#nombre de mesures\n",
    "nbre = len(data)\n",
    "\n",
    "print('Au total, ', nbre,'mesures ont été réalisées')\n",
    "\n",
    "#rabattement maximum (4eme colonne du fichier data -> index 3 pour Python)\n",
    "max_columns = np.amax(data, axis=0)\n",
    "max_index_col = np.argmax(data, axis=0)\n",
    "\n",
    "print('Rabattement maximum : smax = ', max_columns[1]-niv_stat, 'mètres pour t = ',\n",
    "      data[max_index_col[0],0], 'minutes')\n"
   ]
  },
  {
   "cell_type": "markdown",
   "metadata": {},
   "source": [
    "#### 1.b Construire le graphique $s_Q = f(Q)$"
   ]
  },
  {
   "cell_type": "markdown",
   "metadata": {},
   "source": [
    "Afin de calculer les valeurs de rabattement spécifique, il est nécessaire d'identifier les valeurs de rabattement stabilisées pour chaque pallier. Cet examen visuel est important car il permet de s'assurer qu'aucun biais ne sera introduit par la suite dans la détermination de l'équation caractéristique.\n",
    "\n",
    "A partir des données de débit $Q_n$ pour chaque palier $n$ de valeurs croissantes et des rabattements $n$ stabilisés en fin de palier $s_n$, on calcule le rabattement spécifique $s_Q(n)$ \n",
    "$$\n",
    "s_{Qn} = \\frac{s_n}{Q_n}\n",
    "$$\n",
    "\n",
    "On construit la courbe expérimentale $$ s_Q = f(Q) $$.\n",
    "<figure>\n",
    "  <IMG SRC=\"paliers2.png\" WIDTH=380 ALIGN=\"center\">\n",
    "</figure>\n"
   ]
  },
  {
   "cell_type": "code",
   "execution_count": 12,
   "metadata": {},
   "outputs": [],
   "source": [
    "#identification visuelle des valeurs stabilisées en fin de chaque palier + débits de paliers correspondant\n",
    "\n",
    "prof_stab = np.array([7.23,9.04,12.62,15.76]) #profondeur m/repere fin de pallier\n",
    "debit =np.array([223.2,367.2,590.4,799.2]) #debit stabilise fin de pallier\n",
    "\n",
    "s_stab = prof_stab - niv_stat #rabattement fin de palier\n",
    "\n",
    "s_q = s_stab / debit #rabattement specifique par palier"
   ]
  },
  {
   "cell_type": "code",
   "execution_count": 11,
   "metadata": {},
   "outputs": [
    {
     "name": "stdout",
     "output_type": "stream",
     "text": [
      "Essai par paliers - Données\n",
      "Palier Débit (m3/j) Rabattement s (m) Rab. spé. s/q\n",
      "    1.000   223.200     1.730 1.134e-02\n",
      "    2.000   367.200     2.020 1.182e-02\n",
      "    3.000   590.400     2.140 1.341e-02\n",
      "    4.000   799.200     2.210 1.384e-02\n"
     ]
    },
    {
     "data": {
      "image/png": "[encoded data removed]",
      "text/plain": [
       "<Figure size 432x288 with 1 Axes>"
      ]
     },
     "metadata": {
      "needs_background": "light"
     },
     "output_type": "display_data"
    }
   ],
   "source": [
    "#creation de la courbe expérimentale sQ = f(Q)\n",
    "print(\"Essai par paliers - Données\")\n",
    "print(\"Palier Débit (m3/j) Rabattement s (m) Rab. spé. s/q\")\n",
    "for i in range(len(debit)):\n",
    "    #print(debit[i])\n",
    "    print('{:9.3f}'.format(i+1), '{:9.3f}'.format(debit[i]), '{:9.3f}'.format(s[i]),'{:.3e}'.format(s_q[i]))\n",
    "    \n",
    "plt.title('Rabattement spécifique')\n",
    "plt.xlabel('Débit (m3/j)')\n",
    "plt.ylabel('s/Q')\n",
    "plt.grid()\n",
    "\n",
    "plt.plot(debit, s_q, '+b')\n",
    "for xy in zip(debit, s_q):                                     \n",
    "    plt.annotate('(%5.f.- %5.3f.)' % xy, xy=xy, textcoords='data')"
   ]
  },
  {
   "cell_type": "markdown",
   "metadata": {},
   "source": [
    "\n"
   ]
  },
  {
   "cell_type": "markdown",
   "metadata": {},
   "source": [
    "#### 1.c Calculer la courbe caractéristique de l'ouvrage et détailler les parts relatives des pertes de charge liées à l'aquifère et à l'ouvrage"
   ]
  },
  {
   "cell_type": "code",
   "execution_count": 17,
   "metadata": {},
   "outputs": [
    {
     "name": "stdout",
     "output_type": "stream",
     "text": [
      "pente =  4.6816168158852755e-06\n",
      "ordonnée origine =  0.010284542312761474\n"
     ]
    }
   ],
   "source": [
    "#ajustement lineaire (polynome d'ordre 1=regression lineaire)\n",
    "m, b = np.polyfit(debit,s_q, 1)\n",
    "\n",
    "#m = slope, b=intercept\n",
    "print('pente = ', m)\n",
    "print('ordonnée origine = ', b)\n"
   ]
  },
  {
   "cell_type": "code",
   "execution_count": 18,
   "metadata": {},
   "outputs": [
    {
     "data": {
      "image/png": "[encoded data removed]",
      "text/plain": [
       "<Figure size 432x288 with 1 Axes>"
      ]
     },
     "metadata": {
      "needs_background": "light"
     },
     "output_type": "display_data"
    }
   ],
   "source": [
    "# paramétrage de la figure \n",
    "plt.title('Rabattement spécifique - Ajustement')\n",
    "plt.xlabel('Débit (m3/j)')\n",
    "plt.ylabel('s/Q')\n",
    "plt.grid()\n",
    "\n",
    "plt.plot(debit, m * debit + b) \n",
    "plt.plot(debit, s_q, '+b') \n",
    "plt.show()\n",
    "#print(m * debit + b)"
   ]
  },
  {
   "cell_type": "code",
   "execution_count": 16,
   "metadata": {},
   "outputs": [
    {
     "name": "stdout",
     "output_type": "stream",
     "text": [
      "Equation caracteristique du puits:  s = 4.68e-06 Q^2 +  1.03e-02 Q\n"
     ]
    }
   ],
   "source": [
    "#ecriture de l'equation caracteristique du puits s = f(Q)\n",
    "print('Equation caracteristique du puits:  ''s =','{:.2e}'.format(m),'Q^2 + ','{:.2e}'.format(b),'Q')"
   ]
  },
  {
   "cell_type": "markdown",
   "metadata": {},
   "source": [
    "### 2 Exploitation et gestion - Proposer le graphique d'exploitation de l'ouvrage"
   ]
  },
  {
   "cell_type": "markdown",
   "metadata": {},
   "source": [
    "#### 2.a Courbe caractéristique de l'ouvrage\n",
    "\n",
    "La courbe caractéristique de l'ouvrage est un outil de gestion pratique pour l'exploitation courante du puits. Elle est utile pour construire la fiche technique de l'ouvrage.\n",
    "On reporte généralement les informations suivantes:\n",
    "- niveau statique\n",
    "- courbe caractéristique de l'ouvrage\n",
    "- profondeur des équipements importants de l'ouvrage (pompe, crépine, etc...)\n",
    "- évolution du niveau d'eau dans l'ouvrage en fonction du débit d'exploitation\n",
    "\n",
    "Le repérage peut être fait en profondeur, en côte NG, etc ...\n",
    "\n",
    "Dans notre exemple, les informations sont les suivantes:\n",
    "- niveau statique: -4.70 m/repère;\n",
    "- haut des crépines: -16 m/repère\n",
    "- chambre de la pompe: -14.50 m/repère\n"
   ]
  },
  {
   "cell_type": "code",
   "execution_count": 29,
   "metadata": {},
   "outputs": [
    {
     "data": {
      "image/png": "[encoded data removed]",
      "text/plain": [
       "<Figure size 432x288 with 1 Axes>"
      ]
     },
     "metadata": {
      "needs_background": "light"
     },
     "output_type": "display_data"
    }
   ],
   "source": [
    "Q = np.arange(0, 800, 20)\n",
    "sQ = Q *Q *m +  Q * b\n",
    "prof = -4.70 + -sQ #m /rep  compte negativement pour montrer la direction\n",
    "\n",
    "crepine = np.ones(len(Q)) * -16\n",
    "pompe = np.ones(len(Q)) * -14.5\n",
    "stat = np.ones(len(Q)) * -4.70\n",
    "\n",
    "plt.title(\"Graphique d'exploitation de l'ouvrage\")\n",
    "plt.xlabel('Débit (m3/j)')\n",
    "plt.ylabel('Profondeur (m/rep)')\n",
    "plt.grid()\n",
    "\n",
    "plt.plot(Q, prof, label='Niveau eau')\n",
    "plt.plot(Q, crepine, '-.r',label='Crépine')\n",
    "plt.plot(Q, pompe, '-.m', label='Pompe')\n",
    "plt.plot(Q, stat, '-.b', label='Niv. statique')\n",
    "plt.legend(loc='best')\n",
    "\n",
    "plt.show()"
   ]
  },
  {
   "cell_type": "markdown",
   "metadata": {},
   "source": [
    "#### 2.b Détermination d'un débit d'exploitation de l'ouvrage sous contrainte\n",
    "\n",
    "Le débit d'exploitation du puits peut être contraint par des éléments techniques qui se traduisent par des contraintes associées à la coupe technique de l'ouvrage et à la profondeur de l'eau lors de l'exploitation. Pratiquement, le niveau de l'eau en pompage ne doit être plus bas:\n",
    "- que la cellule d'aspiration de la pompe (risque de faire tourner la pompe à vide et de \"cramer\" le moteur\n",
    "- que la côte de top des crépines (risque de dénoyage partiel de l'aquifère et de dégradation physico-chimique et bactériologique de ce dernier)\n",
    "- ...\n",
    "\n",
    "L'équation caractéristique de l'ouvrage est utilisée pour déterminer le débit limite correspondant à une côte critique ou un rabattement maximum associé à une limite technique.\n",
    "\n",
    "En se fixant la valeur limite pour le rabattement, on peut écrire l'équation caractéristique:\n",
    "$$\n",
    "s_{lim} = C Q^2 + B Q \n",
    "$$\n",
    "\n",
    "soit sous la forme mieux connue pour la résolution d'une équation à 1 inconnue du second ordre:\n",
    "\n",
    "$$\n",
    "C Q^2 + BQ - s_{lim} = 0\n",
    "$$\n",
    "\n",
    "On peut appliquer la procédure de résolution classique (calcul du déterminant puis choix de la solution plausible si plusieurs solutions) et ainsi obtenir le débit $Q_{lim}$ associé au rabattement limite $s_lim$"
   ]
  },
  {
   "cell_type": "code",
   "execution_count": 19,
   "metadata": {},
   "outputs": [
    {
     "name": "stdout",
     "output_type": "stream",
     "text": [
      "Résolution de l'équation CQ² + BQ = s_lim\n",
      "Méthode standard - Calcul du déterminant\n"
     ]
    },
    {
     "name": "stdin",
     "output_type": "stream",
     "text": [
      "Choisissez la valeur du coefficient quadratique C : 4.68e-6\n",
      "Choisissez la valeur du coefficient linéaire B : 1.03e-2\n",
      "Choisissez la valeur du rabattement limite s_lim (negatif) : -10\n"
     ]
    },
    {
     "name": "stdout",
     "output_type": "stream",
     "text": [
      "L'équation à résoudre pour le débit limite est : 4.68e-06Q² + 0.0103Q + -10.0.\n",
      "Le discriminant est de 0.00029329\n",
      "Il y a deux solutions mais une seule plausible d'un point de vue physique (débit positif):\n",
      "x1 = -2930.097400004786\n",
      "x2 = 729.2426991500851\n"
     ]
    }
   ],
   "source": [
    "print(\"Résolution de l'équation CQ² + BQ = s_lim\")\n",
    "print(\"Méthode standard - Calcul du déterminant\")\n",
    "\n",
    "from math import *\n",
    "\n",
    "\n",
    "a = float(input(\"Choisissez la valeur du coefficient quadratique C :\"))\n",
    "b = float(input(\"Choisissez la valeur du coefficient linéaire B :\"))\n",
    "c = float(input(\"Choisissez la valeur du rabattement limite s_lim (negatif) :\"))\n",
    "x = str\n",
    "\n",
    "def eq2(a, b, c):\n",
    "    print(\"L'équation à résoudre pour le débit limite est : {}Q² + {}Q + {}.\".format(a, b, c))\n",
    "    d = (b ** 2) - (4 * a * c)\n",
    "    print(\"Le discriminant est de\",d)\n",
    "    if d < 0:\n",
    "        print(\"Il n y a pas de solution.\")\n",
    "    elif d == 0:\n",
    "        print(\"Il y a une solution :\")\n",
    "        n = (- b) / (2 * a)\n",
    "        print (\"x =\",n)\n",
    "    else:\n",
    "        print(\"Il y a deux solutions mais une seule plausible d'un point de vue physique (débit positif):\")\n",
    "        n = (- b - sqrt(d)) / (2 * a)\n",
    "        z = (- b + sqrt(d)) / (2 * a)\n",
    "        print (\"x1 =\",n)\n",
    "        print (\"x2 =\",z)\n",
    "eq2(a, b, c)\n",
    "\n",
    "# caracteristique du puits:  s = s = 4.68e-06 Q^2 +  1.03e-02 Q"
   ]
  },
  {
   "cell_type": "markdown",
   "metadata": {},
   "source": [
    "### 3. Vieillissement d'un puits d'exploitation\n",
    " \n",
    "Considérant dans les conditions de vieillissement classiques au bout de 25 ans une augmentation de 50\\% des pertes de charge liées au puits, quel sera l'impact sur le rendement de l'ouvrage et son équipement?"
   ]
  },
  {
   "cell_type": "code",
   "execution_count": null,
   "metadata": {},
   "outputs": [],
   "source": []
  }
 ],
 "metadata": {
  "kernelspec": {
   "display_name": "Python 3",
   "language": "python",
   "name": "python3"
  },
  "language_info": {
   "codemirror_mode": {
    "name": "ipython",
    "version": 3
   },
   "file_extension": ".py",
   "mimetype": "text/x-python",
   "name": "python",
   "nbconvert_exporter": "python",
   "pygments_lexer": "ipython3",
   "version": "3.8.3"
  }
 },
 "nbformat": 4,
 "nbformat_minor": 4
}
